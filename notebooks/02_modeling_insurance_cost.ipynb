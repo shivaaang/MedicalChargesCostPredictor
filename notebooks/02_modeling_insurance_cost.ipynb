{
 "cells": [
  {
   "cell_type": "markdown",
   "metadata": {},
   "source": [
    "# Medical Insurance Cost Prediction"
   ]
  },
  {
   "cell_type": "markdown",
   "metadata": {},
   "source": [
    "## 4. Preprocessing"
   ]
  },
  {
   "cell_type": "markdown",
   "metadata": {},
   "source": [
    "### Loading required modules"
   ]
  },
  {
   "cell_type": "code",
   "execution_count": 1,
   "metadata": {},
   "outputs": [],
   "source": [
    "import pandas as pd\n",
    "import numpy as np\n",
    "import matplotlib.pyplot as plt\n",
    "import seaborn as sns\n",
    "import joblib\n",
    "\n",
    "from sklearn.model_selection import train_test_split, GridSearchCV, cross_val_score\n",
    "from sklearn.metrics import root_mean_squared_error, mean_absolute_error, r2_score\n",
    "from sklearn.preprocessing import StandardScaler\n",
    "from sklearn.pipeline import make_pipeline\n",
    "from sklearn.dummy import DummyRegressor\n",
    "from sklearn.linear_model import LinearRegression\n",
    "from sklearn.neighbors import KNeighborsRegressor\n",
    "from sklearn.tree import DecisionTreeRegressor\n",
    "from sklearn.ensemble import RandomForestRegressor\n",
    "from xgboost import XGBRegressor"
   ]
  },
  {
   "cell_type": "markdown",
   "metadata": {},
   "source": [
    "### Load the dataset"
   ]
  },
  {
   "cell_type": "code",
   "execution_count": 2,
   "metadata": {},
   "outputs": [
    {
     "data": {
      "text/html": [
       "<div>\n",
       "<style scoped>\n",
       "    .dataframe tbody tr th:only-of-type {\n",
       "        vertical-align: middle;\n",
       "    }\n",
       "\n",
       "    .dataframe tbody tr th {\n",
       "        vertical-align: top;\n",
       "    }\n",
       "\n",
       "    .dataframe thead th {\n",
       "        text-align: right;\n",
       "    }\n",
       "</style>\n",
       "<table border=\"1\" class=\"dataframe\">\n",
       "  <thead>\n",
       "    <tr style=\"text-align: right;\">\n",
       "      <th></th>\n",
       "      <th>age</th>\n",
       "      <th>sex</th>\n",
       "      <th>bmi</th>\n",
       "      <th>children</th>\n",
       "      <th>smoker</th>\n",
       "      <th>region</th>\n",
       "      <th>charges</th>\n",
       "    </tr>\n",
       "  </thead>\n",
       "  <tbody>\n",
       "    <tr>\n",
       "      <th>0</th>\n",
       "      <td>19</td>\n",
       "      <td>female</td>\n",
       "      <td>27.900</td>\n",
       "      <td>0</td>\n",
       "      <td>yes</td>\n",
       "      <td>southwest</td>\n",
       "      <td>16884.92400</td>\n",
       "    </tr>\n",
       "    <tr>\n",
       "      <th>1</th>\n",
       "      <td>18</td>\n",
       "      <td>male</td>\n",
       "      <td>33.770</td>\n",
       "      <td>1</td>\n",
       "      <td>no</td>\n",
       "      <td>southeast</td>\n",
       "      <td>1725.55230</td>\n",
       "    </tr>\n",
       "    <tr>\n",
       "      <th>2</th>\n",
       "      <td>28</td>\n",
       "      <td>male</td>\n",
       "      <td>33.000</td>\n",
       "      <td>3</td>\n",
       "      <td>no</td>\n",
       "      <td>southeast</td>\n",
       "      <td>4449.46200</td>\n",
       "    </tr>\n",
       "    <tr>\n",
       "      <th>3</th>\n",
       "      <td>33</td>\n",
       "      <td>male</td>\n",
       "      <td>22.705</td>\n",
       "      <td>0</td>\n",
       "      <td>no</td>\n",
       "      <td>northwest</td>\n",
       "      <td>21984.47061</td>\n",
       "    </tr>\n",
       "    <tr>\n",
       "      <th>4</th>\n",
       "      <td>32</td>\n",
       "      <td>male</td>\n",
       "      <td>28.880</td>\n",
       "      <td>0</td>\n",
       "      <td>no</td>\n",
       "      <td>northwest</td>\n",
       "      <td>3866.85520</td>\n",
       "    </tr>\n",
       "  </tbody>\n",
       "</table>\n",
       "</div>"
      ],
      "text/plain": [
       "   age     sex     bmi  children smoker     region      charges\n",
       "0   19  female  27.900         0    yes  southwest  16884.92400\n",
       "1   18    male  33.770         1     no  southeast   1725.55230\n",
       "2   28    male  33.000         3     no  southeast   4449.46200\n",
       "3   33    male  22.705         0     no  northwest  21984.47061\n",
       "4   32    male  28.880         0     no  northwest   3866.85520"
      ]
     },
     "execution_count": 2,
     "metadata": {},
     "output_type": "execute_result"
    }
   ],
   "source": [
    "df = pd.read_csv('../data/insurance.csv')\n",
    "df.head()"
   ]
  },
  {
   "cell_type": "markdown",
   "metadata": {},
   "source": [
    "### Preprocessing"
   ]
  },
  {
   "cell_type": "markdown",
   "metadata": {},
   "source": [
    "#### 1. Create a Copy of the Dataset for Modeling\n",
    "\n",
    "To ensure our original dataset remains unchanged, we begin by creating a separate copy for preprocessing and modeling. This also helps isolate modeling transformations from exploratory steps."
   ]
  },
  {
   "cell_type": "code",
   "execution_count": 3,
   "metadata": {},
   "outputs": [],
   "source": [
    "df_model = df.copy()"
   ]
  },
  {
   "cell_type": "markdown",
   "metadata": {},
   "source": [
    "#### 2. Separate Features (X) and Target (y)\n",
    "\n",
    "We split the dataset into features (independent variables) and the target variable (`charges`). "
   ]
  },
  {
   "cell_type": "code",
   "execution_count": 4,
   "metadata": {},
   "outputs": [],
   "source": [
    "X = df_model.drop(\"charges\", axis=1)\n",
    "y = df_model[\"charges\"]"
   ]
  },
  {
   "cell_type": "markdown",
   "metadata": {},
   "source": [
    "#### 3. One-Hot Encode Categorical Features\n",
    "\n",
    "We apply one-hot encoding to categorical variables using `pd.get_dummies()`. This transformation is done **before splitting** to ensure consistent feature columns across train and test sets. We use `drop_first=True` to avoid multicollinearity."
   ]
  },
  {
   "cell_type": "code",
   "execution_count": 5,
   "metadata": {},
   "outputs": [
    {
     "data": {
      "text/html": [
       "<div>\n",
       "<style scoped>\n",
       "    .dataframe tbody tr th:only-of-type {\n",
       "        vertical-align: middle;\n",
       "    }\n",
       "\n",
       "    .dataframe tbody tr th {\n",
       "        vertical-align: top;\n",
       "    }\n",
       "\n",
       "    .dataframe thead th {\n",
       "        text-align: right;\n",
       "    }\n",
       "</style>\n",
       "<table border=\"1\" class=\"dataframe\">\n",
       "  <thead>\n",
       "    <tr style=\"text-align: right;\">\n",
       "      <th></th>\n",
       "      <th>age</th>\n",
       "      <th>bmi</th>\n",
       "      <th>children</th>\n",
       "      <th>sex_male</th>\n",
       "      <th>smoker_yes</th>\n",
       "      <th>region_northwest</th>\n",
       "      <th>region_southeast</th>\n",
       "      <th>region_southwest</th>\n",
       "    </tr>\n",
       "  </thead>\n",
       "  <tbody>\n",
       "    <tr>\n",
       "      <th>0</th>\n",
       "      <td>19</td>\n",
       "      <td>27.900</td>\n",
       "      <td>0</td>\n",
       "      <td>False</td>\n",
       "      <td>True</td>\n",
       "      <td>False</td>\n",
       "      <td>False</td>\n",
       "      <td>True</td>\n",
       "    </tr>\n",
       "    <tr>\n",
       "      <th>1</th>\n",
       "      <td>18</td>\n",
       "      <td>33.770</td>\n",
       "      <td>1</td>\n",
       "      <td>True</td>\n",
       "      <td>False</td>\n",
       "      <td>False</td>\n",
       "      <td>True</td>\n",
       "      <td>False</td>\n",
       "    </tr>\n",
       "    <tr>\n",
       "      <th>2</th>\n",
       "      <td>28</td>\n",
       "      <td>33.000</td>\n",
       "      <td>3</td>\n",
       "      <td>True</td>\n",
       "      <td>False</td>\n",
       "      <td>False</td>\n",
       "      <td>True</td>\n",
       "      <td>False</td>\n",
       "    </tr>\n",
       "    <tr>\n",
       "      <th>3</th>\n",
       "      <td>33</td>\n",
       "      <td>22.705</td>\n",
       "      <td>0</td>\n",
       "      <td>True</td>\n",
       "      <td>False</td>\n",
       "      <td>True</td>\n",
       "      <td>False</td>\n",
       "      <td>False</td>\n",
       "    </tr>\n",
       "    <tr>\n",
       "      <th>4</th>\n",
       "      <td>32</td>\n",
       "      <td>28.880</td>\n",
       "      <td>0</td>\n",
       "      <td>True</td>\n",
       "      <td>False</td>\n",
       "      <td>True</td>\n",
       "      <td>False</td>\n",
       "      <td>False</td>\n",
       "    </tr>\n",
       "  </tbody>\n",
       "</table>\n",
       "</div>"
      ],
      "text/plain": [
       "   age     bmi  children  sex_male  smoker_yes  region_northwest  \\\n",
       "0   19  27.900         0     False        True             False   \n",
       "1   18  33.770         1      True       False             False   \n",
       "2   28  33.000         3      True       False             False   \n",
       "3   33  22.705         0      True       False              True   \n",
       "4   32  28.880         0      True       False              True   \n",
       "\n",
       "   region_southeast  region_southwest  \n",
       "0             False              True  \n",
       "1              True             False  \n",
       "2              True             False  \n",
       "3             False             False  \n",
       "4             False             False  "
      ]
     },
     "execution_count": 5,
     "metadata": {},
     "output_type": "execute_result"
    }
   ],
   "source": [
    "# One-hot encode categorical variables\n",
    "X_encoded = pd.get_dummies(X, drop_first=True)\n",
    "X_encoded.head()"
   ]
  },
  {
   "cell_type": "markdown",
   "metadata": {},
   "source": [
    "#### 4. Train-Test Split\n",
    "\n",
    "We now split our data into training and testing sets using an 80-20 ratio. This split will be used consistently across all models to ensure fair evaluation. "
   ]
  },
  {
   "cell_type": "code",
   "execution_count": 6,
   "metadata": {},
   "outputs": [],
   "source": [
    "# Split for original target\n",
    "X_train, X_test, y_train, y_test = train_test_split(\n",
    "    X_encoded, y, test_size=0.2, random_state=42)"
   ]
  },
  {
   "cell_type": "code",
   "execution_count": 7,
   "metadata": {},
   "outputs": [
    {
     "name": "stdout",
     "output_type": "stream",
     "text": [
      "X_train.shape: (1070, 8)\n",
      "y_train.shape: (1070,)\n",
      "X_test.shape: (268, 8)\n",
      "y_test.shape: (268,)\n"
     ]
    }
   ],
   "source": [
    "print(f\"X_train.shape:\", X_train.shape)\n",
    "print(f'y_train.shape:', y_train.shape)\n",
    "print(f\"X_test.shape:\", X_test.shape)\n",
    "print(f'y_test.shape:', y_test.shape)"
   ]
  },
  {
   "cell_type": "code",
   "execution_count": 8,
   "metadata": {},
   "outputs": [
    {
     "name": "stdout",
     "output_type": "stream",
     "text": [
      "smoker_yes\n",
      "False    0.794393\n",
      "True     0.205607\n",
      "Name: proportion, dtype: float64\n",
      "smoker_yes\n",
      "False    0.798507\n",
      "True     0.201493\n",
      "Name: proportion, dtype: float64\n"
     ]
    }
   ],
   "source": [
    "print(X_train['smoker_yes'].value_counts(normalize=True))\n",
    "print(X_test['smoker_yes'].value_counts(normalize=True))"
   ]
  },
  {
   "cell_type": "markdown",
   "metadata": {},
   "source": [
    "#### Preprocessing Summary\n",
    "\n",
    "- Categorical variables were one-hot encoded before the split to preserve column structure.\n",
    "- A single train-test split is used consistently across all models.\n",
    "\n",
    "We are now ready to begin training baseline models."
   ]
  },
  {
   "cell_type": "markdown",
   "metadata": {},
   "source": [
    "## 5. Modeling"
   ]
  },
  {
   "cell_type": "markdown",
   "metadata": {},
   "source": [
    "### DummyRegressor Mean Model (baseline)\n",
    "Before training actual models, we establish a baseline using `DummyRegressor`. This model simply predicts the mean/median of the training target values. Our real models must outperform this baseline to be considered effective. "
   ]
  },
  {
   "cell_type": "code",
   "execution_count": 9,
   "metadata": {},
   "outputs": [],
   "source": [
    "# Mean Dummy Regressor on Original Target\n",
    "dummy_mean = DummyRegressor(strategy=\"mean\")\n",
    "dummy_mean.fit(X_train, y_train)\n",
    "y_pred_mean_dummy = dummy_mean.predict(X_test)"
   ]
  },
  {
   "cell_type": "code",
   "execution_count": 10,
   "metadata": {},
   "outputs": [],
   "source": [
    "# Median Dummy Regressor on Original Target\n",
    "dummy_median = DummyRegressor(strategy=\"median\")\n",
    "dummy_median.fit(X_train, y_train)\n",
    "y_pred_median_dummy = dummy_median.predict(X_test)"
   ]
  },
  {
   "cell_type": "code",
   "execution_count": 11,
   "metadata": {},
   "outputs": [
    {
     "name": "stdout",
     "output_type": "stream",
     "text": [
      "dummy_mean:\n",
      "RMSE: 12465.61\n",
      "MAE:  9593.34\n",
      "R²:   -0.0009\n",
      "dummy_median:\n",
      "RMSE: 12913.57\n",
      "MAE:  8641.98\n",
      "R²:   -0.0741\n"
     ]
    }
   ],
   "source": [
    "# Evaluating metrics\n",
    "def evaluate_model(y_true, y_pred, label):\n",
    "    r2 = r2_score(y_true, y_pred)\n",
    "    rmse = root_mean_squared_error(y_true, y_pred)\n",
    "    mae = mean_absolute_error(y_true, y_pred)\n",
    "    print(f\"{label}:\")\n",
    "    print(f\"RMSE: {rmse:.2f}\")\n",
    "    print(f\"MAE:  {mae:.2f}\")\n",
    "    print(f\"R²:   {r2:.4f}\")\n",
    " \n",
    "evaluate_model(y_test, y_pred_mean_dummy, \"dummy_mean\")\n",
    "evaluate_model(y_test, y_pred_median_dummy, \"dummy_median\")"
   ]
  },
  {
   "cell_type": "markdown",
   "metadata": {},
   "source": [
    "### Baseline Evaluation Summary\n",
    "\n",
    "We established a baseline using `DummyRegressor`, which predicts the **mean of the target variable** (`charges`) from the training data.\n",
    "\n",
    "This provides a minimal benchmark that our actual models must outperform to be considered effective.\n",
    "\n",
    "- **RMSE (Root Mean Squared Error)** shows how far the model's predictions deviate from actual charges, penalizing larger errors more.\n",
    "- **MAE (Mean Absolute Error)** gives a simpler average error magnitude.\n",
    "- **R² (Coefficient of Determination)** indicates the proportion of variance explained (or not explained, if negative).\n",
    "\n",
    "Since this is a naïve model, it does not capture any relationships in the data, but it gives us a useful reference point before we train more sophisticated regressors."
   ]
  },
  {
   "cell_type": "markdown",
   "metadata": {},
   "source": [
    "### Linear Regression Modeling & Analysis\n",
    "\n",
    "### 1. Initial Model Training & Evaluation\n"
   ]
  },
  {
   "cell_type": "code",
   "execution_count": 12,
   "metadata": {},
   "outputs": [
    {
     "data": {
      "text/html": [
       "<div>\n",
       "<style scoped>\n",
       "    .dataframe tbody tr th:only-of-type {\n",
       "        vertical-align: middle;\n",
       "    }\n",
       "\n",
       "    .dataframe tbody tr th {\n",
       "        vertical-align: top;\n",
       "    }\n",
       "\n",
       "    .dataframe thead th {\n",
       "        text-align: right;\n",
       "    }\n",
       "</style>\n",
       "<table border=\"1\" class=\"dataframe\">\n",
       "  <thead>\n",
       "    <tr style=\"text-align: right;\">\n",
       "      <th></th>\n",
       "      <th>age</th>\n",
       "      <th>bmi</th>\n",
       "      <th>children</th>\n",
       "      <th>sex_male</th>\n",
       "      <th>smoker_yes</th>\n",
       "      <th>region_northwest</th>\n",
       "      <th>region_southeast</th>\n",
       "      <th>region_southwest</th>\n",
       "    </tr>\n",
       "  </thead>\n",
       "  <tbody>\n",
       "    <tr>\n",
       "      <th>560</th>\n",
       "      <td>46</td>\n",
       "      <td>19.95</td>\n",
       "      <td>2</td>\n",
       "      <td>False</td>\n",
       "      <td>False</td>\n",
       "      <td>True</td>\n",
       "      <td>False</td>\n",
       "      <td>False</td>\n",
       "    </tr>\n",
       "    <tr>\n",
       "      <th>1285</th>\n",
       "      <td>47</td>\n",
       "      <td>24.32</td>\n",
       "      <td>0</td>\n",
       "      <td>False</td>\n",
       "      <td>False</td>\n",
       "      <td>False</td>\n",
       "      <td>False</td>\n",
       "      <td>False</td>\n",
       "    </tr>\n",
       "    <tr>\n",
       "      <th>1142</th>\n",
       "      <td>52</td>\n",
       "      <td>24.86</td>\n",
       "      <td>0</td>\n",
       "      <td>False</td>\n",
       "      <td>False</td>\n",
       "      <td>False</td>\n",
       "      <td>True</td>\n",
       "      <td>False</td>\n",
       "    </tr>\n",
       "    <tr>\n",
       "      <th>969</th>\n",
       "      <td>39</td>\n",
       "      <td>34.32</td>\n",
       "      <td>5</td>\n",
       "      <td>False</td>\n",
       "      <td>False</td>\n",
       "      <td>False</td>\n",
       "      <td>True</td>\n",
       "      <td>False</td>\n",
       "    </tr>\n",
       "    <tr>\n",
       "      <th>486</th>\n",
       "      <td>54</td>\n",
       "      <td>21.47</td>\n",
       "      <td>3</td>\n",
       "      <td>False</td>\n",
       "      <td>False</td>\n",
       "      <td>True</td>\n",
       "      <td>False</td>\n",
       "      <td>False</td>\n",
       "    </tr>\n",
       "  </tbody>\n",
       "</table>\n",
       "</div>"
      ],
      "text/plain": [
       "      age    bmi  children  sex_male  smoker_yes  region_northwest  \\\n",
       "560    46  19.95         2     False       False              True   \n",
       "1285   47  24.32         0     False       False             False   \n",
       "1142   52  24.86         0     False       False             False   \n",
       "969    39  34.32         5     False       False             False   \n",
       "486    54  21.47         3     False       False              True   \n",
       "\n",
       "      region_southeast  region_southwest  \n",
       "560              False             False  \n",
       "1285             False             False  \n",
       "1142              True             False  \n",
       "969               True             False  \n",
       "486              False             False  "
      ]
     },
     "execution_count": 12,
     "metadata": {},
     "output_type": "execute_result"
    }
   ],
   "source": [
    "X_train.head()"
   ]
  },
  {
   "cell_type": "code",
   "execution_count": 13,
   "metadata": {},
   "outputs": [
    {
     "name": "stdout",
     "output_type": "stream",
     "text": [
      "Pipeline Performance \n",
      "Insurance Pipeline - Test:\n",
      "RMSE: 5796.28\n",
      "MAE:  4181.19\n",
      "R²:   0.7836\n",
      "Insurance Pipeline - Train:\n",
      "RMSE: 6105.55\n",
      "MAE:  4208.23\n",
      "R²:   0.7417\n"
     ]
    }
   ],
   "source": [
    "# 1. Create full modeling pipeline\n",
    "lr_insurance_pipe = make_pipeline(\n",
    "    StandardScaler(),\n",
    "    LinearRegression()\n",
    ")\n",
    "\n",
    "# 2. Train using RAW features (no manual scaling)\n",
    "lr_insurance_pipe.fit(X_train, y_train)\n",
    "\n",
    "# 3. Generate predictions THROUGH PIPELINE\n",
    "y_pred_test = lr_insurance_pipe.predict(X_test)  # Uses raw X_test\n",
    "y_pred_train = lr_insurance_pipe.predict(X_train)  # Uses raw X_train\n",
    "\n",
    "# 4. Evaluate using pipeline predictions\n",
    "print(\"Pipeline Performance \")\n",
    "evaluate_model(y_test, y_pred_test, \"Insurance Pipeline - Test\")\n",
    "evaluate_model(y_train, y_pred_train, \"Insurance Pipeline - Train\")\n",
    "\n",
    "# 5. Access components FOR ANALYSIS ONLY\n",
    "final_model = lr_insurance_pipe.named_steps['linearregression']\n",
    "feature_names = X_train.columns.tolist()"
   ]
  },
  {
   "cell_type": "code",
   "execution_count": 14,
   "metadata": {},
   "outputs": [
    {
     "data": {
      "text/html": [
       "<div>\n",
       "<style scoped>\n",
       "    .dataframe tbody tr th:only-of-type {\n",
       "        vertical-align: middle;\n",
       "    }\n",
       "\n",
       "    .dataframe tbody tr th {\n",
       "        vertical-align: top;\n",
       "    }\n",
       "\n",
       "    .dataframe thead th {\n",
       "        text-align: right;\n",
       "    }\n",
       "</style>\n",
       "<table border=\"1\" class=\"dataframe\">\n",
       "  <thead>\n",
       "    <tr style=\"text-align: right;\">\n",
       "      <th></th>\n",
       "      <th>age</th>\n",
       "      <th>bmi</th>\n",
       "      <th>children</th>\n",
       "      <th>sex_male</th>\n",
       "      <th>smoker_yes</th>\n",
       "      <th>region_northwest</th>\n",
       "      <th>region_southeast</th>\n",
       "      <th>region_southwest</th>\n",
       "    </tr>\n",
       "  </thead>\n",
       "  <tbody>\n",
       "    <tr>\n",
       "      <th>560</th>\n",
       "      <td>46</td>\n",
       "      <td>19.95</td>\n",
       "      <td>2</td>\n",
       "      <td>False</td>\n",
       "      <td>False</td>\n",
       "      <td>True</td>\n",
       "      <td>False</td>\n",
       "      <td>False</td>\n",
       "    </tr>\n",
       "    <tr>\n",
       "      <th>1285</th>\n",
       "      <td>47</td>\n",
       "      <td>24.32</td>\n",
       "      <td>0</td>\n",
       "      <td>False</td>\n",
       "      <td>False</td>\n",
       "      <td>False</td>\n",
       "      <td>False</td>\n",
       "      <td>False</td>\n",
       "    </tr>\n",
       "    <tr>\n",
       "      <th>1142</th>\n",
       "      <td>52</td>\n",
       "      <td>24.86</td>\n",
       "      <td>0</td>\n",
       "      <td>False</td>\n",
       "      <td>False</td>\n",
       "      <td>False</td>\n",
       "      <td>True</td>\n",
       "      <td>False</td>\n",
       "    </tr>\n",
       "    <tr>\n",
       "      <th>969</th>\n",
       "      <td>39</td>\n",
       "      <td>34.32</td>\n",
       "      <td>5</td>\n",
       "      <td>False</td>\n",
       "      <td>False</td>\n",
       "      <td>False</td>\n",
       "      <td>True</td>\n",
       "      <td>False</td>\n",
       "    </tr>\n",
       "    <tr>\n",
       "      <th>486</th>\n",
       "      <td>54</td>\n",
       "      <td>21.47</td>\n",
       "      <td>3</td>\n",
       "      <td>False</td>\n",
       "      <td>False</td>\n",
       "      <td>True</td>\n",
       "      <td>False</td>\n",
       "      <td>False</td>\n",
       "    </tr>\n",
       "  </tbody>\n",
       "</table>\n",
       "</div>"
      ],
      "text/plain": [
       "      age    bmi  children  sex_male  smoker_yes  region_northwest  \\\n",
       "560    46  19.95         2     False       False              True   \n",
       "1285   47  24.32         0     False       False             False   \n",
       "1142   52  24.86         0     False       False             False   \n",
       "969    39  34.32         5     False       False             False   \n",
       "486    54  21.47         3     False       False              True   \n",
       "\n",
       "      region_southeast  region_southwest  \n",
       "560              False             False  \n",
       "1285             False             False  \n",
       "1142              True             False  \n",
       "969               True             False  \n",
       "486              False             False  "
      ]
     },
     "execution_count": 14,
     "metadata": {},
     "output_type": "execute_result"
    }
   ],
   "source": [
    "X_train.head()"
   ]
  },
  {
   "cell_type": "markdown",
   "metadata": {},
   "source": [
    "**Initial Model Performance Analysis**\n",
    "\n",
    "Our linear regression model shows promising results with an R² of 0.7836 on the test set, meaning it explains approximately 78% of the variance in medical charges.\n",
    "\n",
    "**Key Observations:**\n",
    "1. **Test vs Train Performance**: Interestingly, our model performs better on the test set (RMSE: 5796.28) than on the training set (RMSE: 6105.55). This unusual pattern suggests that:\n",
    "   - The test set may contain cases that are easier to predict\n",
    "   - The random split created a more favorable test distribution\n",
    "   - Our linear model might be well-suited for the specific patterns in our test data\n",
    "\n",
    "2. **Error Magnitude**: With a Mean Absolute Error of $4,181 on test data, our predictions are typically off by about $4,000 - a meaningful amount in healthcare cost prediction.\n",
    "\n",
    "This initial evaluation gives us a baseline, but we need to validate if this performance is consistent across different data subsets.\n"
   ]
  },
  {
   "cell_type": "markdown",
   "metadata": {},
   "source": [
    "### 2. Cross Validation Implementation"
   ]
  },
  {
   "cell_type": "code",
   "execution_count": 15,
   "metadata": {},
   "outputs": [
    {
     "name": "stdout",
     "output_type": "stream",
     "text": [
      "Validation Results\n",
      "Fold RMSE Scores: [6334.96905353 5663.6591115  5992.51101164 6825.71740716 5918.61313625]\n",
      "Mean RMSE: 6147.09 ± 401.41\n"
     ]
    }
   ],
   "source": [
    "# 5-fold cross-validation\n",
    "cv_scores = cross_val_score(estimator=lr_insurance_pipe,\n",
    "                            X=X_train,\n",
    "                            y=y_train,\n",
    "                            cv=5,\n",
    "                            scoring='neg_root_mean_squared_error')\n",
    "\n",
    "print('Validation Results')\n",
    "print('Fold RMSE Scores:', -cv_scores)\n",
    "print(f\"Mean RMSE: {-cv_scores.mean():.2f} ± {cv_scores.std():.2f}\")"
   ]
  },
  {
   "cell_type": "markdown",
   "metadata": {},
   "source": [
    "**CV Results Insights:**\n",
    "- **Mean RMSE (6147.09)**: This is higher than our initial test RMSE (5796.28), suggesting our original test set was somewhat \"easier\" than average\n",
    "- **Standard Deviation (±401.41)**: This represents about 6.5% of the mean RMSE, indicating moderate instability in predictions\n",
    "- **Fold Variation**: The large difference between best (5663.66) and worst (6825.72) folds suggests our model's performance depends significantly on which data points it sees\n",
    "\n",
    "These results confirm that our model has reasonable predictive power, but its performance varies based on data composition. We'll continue with our original model since it has already been trained on all training data.  \n",
    "\n",
    "**Performance Note**:  \n",
    "While our test set shows RMSE=5,796, cross-validation suggests true performance is ≈6,100. This 5% difference is acceptable for a first model but indicates we should:  \n",
    "- Track performance over future data batches  \n",
    "- Develop more stable models in next iterations"
   ]
  },
  {
   "cell_type": "markdown",
   "metadata": {},
   "source": [
    "### 3. Feature Impact Analysis"
   ]
  },
  {
   "cell_type": "code",
   "execution_count": 16,
   "metadata": {},
   "outputs": [
    {
     "name": "stdout",
     "output_type": "stream",
     "text": [
      "Feature Impact Analysis\n",
      "            Feature  Coefficient  Absolute Impact\n",
      "4        smoker_yes      9558.48          9558.48\n",
      "0               age      3614.98          3614.98\n",
      "1               bmi      2036.23          2036.23\n",
      "2          children       516.89           516.89\n",
      "7  region_southwest      -349.11           349.11\n",
      "6  region_southeast      -290.16           290.16\n",
      "5  region_northwest      -158.14           158.14\n",
      "3          sex_male        -9.29             9.29\n",
      "\n",
      "Base Insurance Cost (Intercept): $13346.09\n"
     ]
    }
   ],
   "source": [
    "# Access model components through pipeline\n",
    "final_model = lr_insurance_pipe.named_steps['linearregression']\n",
    "\n",
    "coefficients_df = pd.DataFrame({\n",
    "    'Feature': X_encoded.columns,\n",
    "    'Coefficient': final_model.coef_,\n",
    "    'Absolute Impact': np.abs(final_model.coef_)\n",
    "}).sort_values('Absolute Impact', ascending=False)\n",
    "\n",
    "print(\"Feature Impact Analysis\")\n",
    "print(coefficients_df.round(2))\n",
    "print(f\"\\nBase Insurance Cost (Intercept): ${final_model.intercept_:.2f}\")\n"
   ]
  },
  {
   "cell_type": "markdown",
   "metadata": {},
   "source": [
    "**Feature Impact Interpretation**\n",
    "\n",
    "The coefficients from our linear regression model reveal the financial impact of each feature on medical charges, holding all other variables constant.\n",
    "\n",
    "**Key Drivers of Medical Costs:**\n",
    "\n",
    "1. **Smoking Status** ($9,558.48):\n",
    "   - Being a smoker increases predicted annual medical costs by over $9,500\n",
    "   - This aligns with our EDA findings that showed smokers having significantly higher charges\n",
    "   - Represents the single largest controllable factor in predicting insurance costs\n",
    "\n",
    "2. **Age** ($3,614.98):\n",
    "   - Each additional year of age adds $3,615 to predicted charges\n",
    "   - This suggests substantial increases over a lifetime - a 30-year-old is predicted to pay approximately $36,150 more than a 20-year-old (10 years × $3,615)\n",
    "   - Age appears to be modeled linearly, though healthcare costs might accelerate at advanced ages\n",
    "\n",
    "3. **BMI** ($2,036.23):\n",
    "   - Each unit increase in BMI adds about $2,036 to predicted costs\n",
    "   - Moving from a healthy BMI (20) to obese (30) could add over $20,000 to annual charges\n",
    "   - Highlights the financial impact of weight management\n",
    "\n",
    "4. **Regional Variation**:\n",
    "   - All regions show lower costs compared to the northeast (reference category)\n",
    "   - Southwest region shows the largest reduction (-$349.11)\n",
    "   - Relatively small regional effects compared to lifestyle factors\n",
    "\n",
    "5. **Gender Impact**:\n",
    "   - Being male has a negligible effect (-$9.29) on predicted costs\n",
    "   - This suggests gender-neutral pricing in this dataset\n",
    "\n",
    "**Base Insurance Cost:** $13,346.09 represents the predicted annual medical cost for a non-smoking female with zero age, BMI, and children in the northeast region. While this specific combination doesn't exist in reality (age/BMI can't be zero), it serves as the mathematical starting point for our predictions.\n"
   ]
  },
  {
   "cell_type": "markdown",
   "metadata": {},
   "source": [
    "### Error Analysis"
   ]
  },
  {
   "cell_type": "code",
   "execution_count": 17,
   "metadata": {},
   "outputs": [
    {
     "name": "stdout",
     "output_type": "stream",
     "text": [
      "           Actual     Predicted         Error  smoker  age     Abs_Error\n",
      "543   63770.42801  40920.291512  22850.136498    True   54  22850.136498\n",
      "1039  22493.65964   2603.436339  19890.223301   False   19  19890.223301\n",
      "430   23082.95533   3280.691784  19802.263546   False   19  19802.263546\n",
      "599   33471.97189  14560.795906  18911.175984   False   52  18911.175984\n",
      "115   30259.99556  13107.893131  17152.102429   False   60  17152.102429\n",
      "          Actual    Predicted       Error  smoker  age   Abs_Error\n",
      "1043  3161.45400  3151.289199   10.164801   False   28   10.164801\n",
      "63    4133.64165  4061.197505   72.444145   False   28   72.444145\n",
      "1175  2154.36100  2047.655282  106.705718   False   22  106.705718\n",
      "764   9095.06825  8969.550274  125.517976   False   45  125.517976\n",
      "65    1743.21400  1883.494758 -140.280758   False   19  140.280758\n"
     ]
    }
   ],
   "source": [
    "# Create error analysis dataframe\n",
    "errors = pd.DataFrame({\n",
    "    'Actual': y_test,\n",
    "    'Predicted': y_pred_test,\n",
    "    'Error': y_test - y_pred_test\n",
    "})\n",
    "\n",
    "# Add key features\n",
    "errors['smoker'] = X_test['smoker_yes']\n",
    "errors['age'] = X_test['age']\n",
    "errors['Abs_Error'] = np.abs(errors['Error'])\n",
    "\n",
    "\n",
    "# Find worst predictions\n",
    "print(errors.nlargest(5, 'Abs_Error'))\n",
    "print(errors.nsmallest(5, 'Abs_Error'))\n"
   ]
  },
  {
   "cell_type": "code",
   "execution_count": 18,
   "metadata": {},
   "outputs": [
    {
     "data": {
      "image/png": "[encoded data removed]",
      "text/plain": [
       "<Figure size 1000x600 with 1 Axes>"
      ]
     },
     "metadata": {},
     "output_type": "display_data"
    }
   ],
   "source": [
    "plt.figure(figsize=(10,6))\n",
    "sns.scatterplot(x=y_pred_test, y=y_test)\n",
    "plt.plot([0,60000], [0,60000], 'r--')  # Perfect prediction line\n",
    "plt.title(\"Actual vs Predicted Charges\")\n",
    "plt.xlabel(\"Predicted Charges\")\n",
    "plt.ylabel(\"Actual Charges\")\n",
    "plt.show()"
   ]
  },
  {
   "cell_type": "markdown",
   "metadata": {},
   "source": [
    "**Actual vs Predicted Charges Analysis**\n",
    "\n",
    "This visualization reveals several key patterns in our linear regression model's performance:\n",
    "\n",
    "1. **Systematic Underprediction of High Costs**: Points above the diagonal line (particularly above $30,000) show our model consistently underpredicts charges for high-cost patients.\n",
    "\n",
    "2. **Better Accuracy for Lower Charges**: For insurance charges below $15,000, predictions align more closely with actual values.\n",
    "\n",
    "3. **Distinct Patient Clusters**: The data forms two visible groups - likely corresponding to smokers (upper right) and non-smokers (lower left), with different prediction characteristics in each group.\n",
    "\n",
    "4. **Outlier Cases**: Several points show patients with actual charges far exceeding predictions, suggesting our linear model struggles with extreme cases.\n",
    "\n",
    "These patterns indicate that while our model performs adequately (R² = 0.7836), more complex models might better capture the non-linear relationships in healthcare costs, particularly for high-risk patients.\n"
   ]
  },
  {
   "cell_type": "code",
   "execution_count": 20,
   "metadata": {},
   "outputs": [
    {
     "name": "stdout",
     "output_type": "stream",
     "text": [
      "Model saved with features: ['age' 'bmi' 'children' 'sex_male' 'smoker_yes' 'region_northwest'\n",
      " 'region_southeast' 'region_southwest']\n"
     ]
    }
   ],
   "source": [
    "# Save the entire pipeline\n",
    "joblib.dump(lr_insurance_pipe, '../models/lr_insurance_model.pkl')\n",
    "\n",
    "# Verification\n",
    "print(\"Model saved with features:\", lr_insurance_pipe.feature_names_in_)"
   ]
  }
 ],
 "metadata": {
  "kernelspec": {
   "display_name": "base",
   "language": "python",
   "name": "python3"
  },
  "language_info": {
   "codemirror_mode": {
    "name": "ipython",
    "version": 3
   },
   "file_extension": ".py",
   "mimetype": "text/x-python",
   "name": "python",
   "nbconvert_exporter": "python",
   "pygments_lexer": "ipython3",
   "version": "3.12.2"
  }
 },
 "nbformat": 4,
 "nbformat_minor": 2
}
